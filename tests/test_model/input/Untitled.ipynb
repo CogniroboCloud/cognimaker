{
 "cells": [
  {
   "cell_type": "code",
   "execution_count": 1,
   "metadata": {},
   "outputs": [],
   "source": [
    "import pandas as pd"
   ]
  },
  {
   "cell_type": "code",
   "execution_count": 2,
   "metadata": {},
   "outputs": [
    {
     "data": {
      "text/html": [
       "<div>\n",
       "<style scoped>\n",
       "    .dataframe tbody tr th:only-of-type {\n",
       "        vertical-align: middle;\n",
       "    }\n",
       "\n",
       "    .dataframe tbody tr th {\n",
       "        vertical-align: top;\n",
       "    }\n",
       "\n",
       "    .dataframe thead th {\n",
       "        text-align: right;\n",
       "    }\n",
       "</style>\n",
       "<table border=\"1\" class=\"dataframe\">\n",
       "  <thead>\n",
       "    <tr style=\"text-align: right;\">\n",
       "      <th></th>\n",
       "      <th>トランザクションID</th>\n",
       "      <th>顧客ID</th>\n",
       "      <th>日付</th>\n",
       "      <th>商品名</th>\n",
       "      <th>単価</th>\n",
       "      <th>個数</th>\n",
       "      <th>値引き</th>\n",
       "      <th>キャンペーンコード</th>\n",
       "      <th>金額</th>\n",
       "      <th>性別</th>\n",
       "      <th>都道府県</th>\n",
       "      <th>誕生月</th>\n",
       "      <th>支払い方法</th>\n",
       "      <th>退会フラグ</th>\n",
       "    </tr>\n",
       "  </thead>\n",
       "  <tbody>\n",
       "    <tr>\n",
       "      <th>0</th>\n",
       "      <td>b9d40380-35c2-48fc-929f-504b2cf427db</td>\n",
       "      <td>95</td>\n",
       "      <td>2018-10-15</td>\n",
       "      <td>978-0-487-71309-9</td>\n",
       "      <td>809</td>\n",
       "      <td>1</td>\n",
       "      <td>111</td>\n",
       "      <td>19</td>\n",
       "      <td>698</td>\n",
       "      <td>女性</td>\n",
       "      <td>奈良県</td>\n",
       "      <td>10</td>\n",
       "      <td>コンビニ決済</td>\n",
       "      <td>1</td>\n",
       "    </tr>\n",
       "    <tr>\n",
       "      <th>1</th>\n",
       "      <td>05b17346-aa76-472a-b609-86c776e1b5f3</td>\n",
       "      <td>23</td>\n",
       "      <td>2018-03-04</td>\n",
       "      <td>978-1-5203-7611-0</td>\n",
       "      <td>2430</td>\n",
       "      <td>1</td>\n",
       "      <td>257</td>\n",
       "      <td>24</td>\n",
       "      <td>2173</td>\n",
       "      <td>不明</td>\n",
       "      <td>福井県</td>\n",
       "      <td>8</td>\n",
       "      <td>コンビニ決済</td>\n",
       "      <td>1</td>\n",
       "    </tr>\n",
       "    <tr>\n",
       "      <th>2</th>\n",
       "      <td>a129245f-0ed5-4d0f-bdb0-879604788270</td>\n",
       "      <td>22</td>\n",
       "      <td>2018-07-21</td>\n",
       "      <td>978-1-4015-6783-5</td>\n",
       "      <td>540</td>\n",
       "      <td>1</td>\n",
       "      <td>210</td>\n",
       "      <td>13</td>\n",
       "      <td>330</td>\n",
       "      <td>不明</td>\n",
       "      <td>石川県</td>\n",
       "      <td>10</td>\n",
       "      <td>銀行決済</td>\n",
       "      <td>1</td>\n",
       "    </tr>\n",
       "    <tr>\n",
       "      <th>3</th>\n",
       "      <td>56ab6ad3-c12a-4da8-a7a9-cd09f989b87e</td>\n",
       "      <td>71</td>\n",
       "      <td>2018-01-30</td>\n",
       "      <td>978-1-890283-69-8</td>\n",
       "      <td>1028</td>\n",
       "      <td>3</td>\n",
       "      <td>128</td>\n",
       "      <td>10</td>\n",
       "      <td>2956</td>\n",
       "      <td>女性</td>\n",
       "      <td>石川県</td>\n",
       "      <td>3</td>\n",
       "      <td>銀行決済</td>\n",
       "      <td>1</td>\n",
       "    </tr>\n",
       "    <tr>\n",
       "      <th>4</th>\n",
       "      <td>4b50fbd1-3088-491b-9b70-499ce327fbde</td>\n",
       "      <td>53</td>\n",
       "      <td>2018-01-18</td>\n",
       "      <td>978-1-00-029459-0</td>\n",
       "      <td>2267</td>\n",
       "      <td>3</td>\n",
       "      <td>146</td>\n",
       "      <td>0</td>\n",
       "      <td>6655</td>\n",
       "      <td>男性</td>\n",
       "      <td>宮崎県</td>\n",
       "      <td>6</td>\n",
       "      <td>クレジット決済</td>\n",
       "      <td>1</td>\n",
       "    </tr>\n",
       "  </tbody>\n",
       "</table>\n",
       "</div>"
      ],
      "text/plain": [
       "                             トランザクションID  顧客ID          日付                商品名  \\\n",
       "0  b9d40380-35c2-48fc-929f-504b2cf427db    95  2018-10-15  978-0-487-71309-9   \n",
       "1  05b17346-aa76-472a-b609-86c776e1b5f3    23  2018-03-04  978-1-5203-7611-0   \n",
       "2  a129245f-0ed5-4d0f-bdb0-879604788270    22  2018-07-21  978-1-4015-6783-5   \n",
       "3  56ab6ad3-c12a-4da8-a7a9-cd09f989b87e    71  2018-01-30  978-1-890283-69-8   \n",
       "4  4b50fbd1-3088-491b-9b70-499ce327fbde    53  2018-01-18  978-1-00-029459-0   \n",
       "\n",
       "     単価  個数  値引き  キャンペーンコード    金額  性別 都道府県  誕生月    支払い方法  退会フラグ  \n",
       "0   809   1  111         19   698  女性  奈良県   10   コンビニ決済      1  \n",
       "1  2430   1  257         24  2173  不明  福井県    8   コンビニ決済      1  \n",
       "2   540   1  210         13   330  不明  石川県   10     銀行決済      1  \n",
       "3  1028   3  128         10  2956  女性  石川県    3     銀行決済      1  \n",
       "4  2267   3  146          0  6655  男性  宮崎県    6  クレジット決済      1  "
      ]
     },
     "execution_count": 2,
     "metadata": {},
     "output_type": "execute_result"
    }
   ],
   "source": [
    "df = pd.read_csv('./data.csv')\n",
    "df.head()"
   ]
  },
  {
   "cell_type": "code",
   "execution_count": 3,
   "metadata": {},
   "outputs": [
    {
     "name": "stdout",
     "output_type": "stream",
     "text": [
      "(4000, 14)\n"
     ]
    }
   ],
   "source": [
    "print(df.shape)"
   ]
  },
  {
   "cell_type": "code",
   "execution_count": 4,
   "metadata": {},
   "outputs": [
    {
     "name": "stdout",
     "output_type": "stream",
     "text": [
      "2019-01-01\n",
      "2018-01-01\n"
     ]
    }
   ],
   "source": [
    "print(df['日付'].max())\n",
    "print(df['日付'].min())"
   ]
  },
  {
   "cell_type": "code",
   "execution_count": 5,
   "metadata": {},
   "outputs": [
    {
     "name": "stdout",
     "output_type": "stream",
     "text": [
      "4000\n"
     ]
    }
   ],
   "source": [
    "print(df['商品名'].nunique())"
   ]
  },
  {
   "cell_type": "code",
   "execution_count": 6,
   "metadata": {},
   "outputs": [
    {
     "data": {
      "text/html": [
       "<div>\n",
       "<style scoped>\n",
       "    .dataframe tbody tr th:only-of-type {\n",
       "        vertical-align: middle;\n",
       "    }\n",
       "\n",
       "    .dataframe tbody tr th {\n",
       "        vertical-align: top;\n",
       "    }\n",
       "\n",
       "    .dataframe thead th {\n",
       "        text-align: right;\n",
       "    }\n",
       "</style>\n",
       "<table border=\"1\" class=\"dataframe\">\n",
       "  <thead>\n",
       "    <tr style=\"text-align: right;\">\n",
       "      <th></th>\n",
       "      <th>トランザクションID</th>\n",
       "      <th>顧客ID</th>\n",
       "      <th>日付</th>\n",
       "      <th>単価</th>\n",
       "      <th>個数</th>\n",
       "      <th>値引き</th>\n",
       "      <th>キャンペーンコード</th>\n",
       "      <th>金額</th>\n",
       "      <th>性別</th>\n",
       "      <th>都道府県</th>\n",
       "      <th>誕生月</th>\n",
       "      <th>支払い方法</th>\n",
       "      <th>退会フラグ</th>\n",
       "    </tr>\n",
       "  </thead>\n",
       "  <tbody>\n",
       "    <tr>\n",
       "      <th>0</th>\n",
       "      <td>b9d40380-35c2-48fc-929f-504b2cf427db</td>\n",
       "      <td>95</td>\n",
       "      <td>2018-10-15</td>\n",
       "      <td>809</td>\n",
       "      <td>1</td>\n",
       "      <td>111</td>\n",
       "      <td>19</td>\n",
       "      <td>698</td>\n",
       "      <td>女性</td>\n",
       "      <td>奈良県</td>\n",
       "      <td>10</td>\n",
       "      <td>コンビニ決済</td>\n",
       "      <td>1</td>\n",
       "    </tr>\n",
       "    <tr>\n",
       "      <th>1</th>\n",
       "      <td>05b17346-aa76-472a-b609-86c776e1b5f3</td>\n",
       "      <td>23</td>\n",
       "      <td>2018-03-04</td>\n",
       "      <td>2430</td>\n",
       "      <td>1</td>\n",
       "      <td>257</td>\n",
       "      <td>24</td>\n",
       "      <td>2173</td>\n",
       "      <td>不明</td>\n",
       "      <td>福井県</td>\n",
       "      <td>8</td>\n",
       "      <td>コンビニ決済</td>\n",
       "      <td>1</td>\n",
       "    </tr>\n",
       "    <tr>\n",
       "      <th>2</th>\n",
       "      <td>a129245f-0ed5-4d0f-bdb0-879604788270</td>\n",
       "      <td>22</td>\n",
       "      <td>2018-07-21</td>\n",
       "      <td>540</td>\n",
       "      <td>1</td>\n",
       "      <td>210</td>\n",
       "      <td>13</td>\n",
       "      <td>330</td>\n",
       "      <td>不明</td>\n",
       "      <td>石川県</td>\n",
       "      <td>10</td>\n",
       "      <td>銀行決済</td>\n",
       "      <td>1</td>\n",
       "    </tr>\n",
       "    <tr>\n",
       "      <th>3</th>\n",
       "      <td>56ab6ad3-c12a-4da8-a7a9-cd09f989b87e</td>\n",
       "      <td>71</td>\n",
       "      <td>2018-01-30</td>\n",
       "      <td>1028</td>\n",
       "      <td>3</td>\n",
       "      <td>128</td>\n",
       "      <td>10</td>\n",
       "      <td>2956</td>\n",
       "      <td>女性</td>\n",
       "      <td>石川県</td>\n",
       "      <td>3</td>\n",
       "      <td>銀行決済</td>\n",
       "      <td>1</td>\n",
       "    </tr>\n",
       "    <tr>\n",
       "      <th>4</th>\n",
       "      <td>4b50fbd1-3088-491b-9b70-499ce327fbde</td>\n",
       "      <td>53</td>\n",
       "      <td>2018-01-18</td>\n",
       "      <td>2267</td>\n",
       "      <td>3</td>\n",
       "      <td>146</td>\n",
       "      <td>0</td>\n",
       "      <td>6655</td>\n",
       "      <td>男性</td>\n",
       "      <td>宮崎県</td>\n",
       "      <td>6</td>\n",
       "      <td>クレジット決済</td>\n",
       "      <td>1</td>\n",
       "    </tr>\n",
       "  </tbody>\n",
       "</table>\n",
       "</div>"
      ],
      "text/plain": [
       "                             トランザクションID  顧客ID          日付    単価  個数  値引き  \\\n",
       "0  b9d40380-35c2-48fc-929f-504b2cf427db    95  2018-10-15   809   1  111   \n",
       "1  05b17346-aa76-472a-b609-86c776e1b5f3    23  2018-03-04  2430   1  257   \n",
       "2  a129245f-0ed5-4d0f-bdb0-879604788270    22  2018-07-21   540   1  210   \n",
       "3  56ab6ad3-c12a-4da8-a7a9-cd09f989b87e    71  2018-01-30  1028   3  128   \n",
       "4  4b50fbd1-3088-491b-9b70-499ce327fbde    53  2018-01-18  2267   3  146   \n",
       "\n",
       "   キャンペーンコード    金額  性別 都道府県  誕生月    支払い方法  退会フラグ  \n",
       "0         19   698  女性  奈良県   10   コンビニ決済      1  \n",
       "1         24  2173  不明  福井県    8   コンビニ決済      1  \n",
       "2         13   330  不明  石川県   10     銀行決済      1  \n",
       "3         10  2956  女性  石川県    3     銀行決済      1  \n",
       "4          0  6655  男性  宮崎県    6  クレジット決済      1  "
      ]
     },
     "execution_count": 6,
     "metadata": {},
     "output_type": "execute_result"
    }
   ],
   "source": [
    "df = df.drop(columns=['商品名'], axis=1)\n",
    "df.head()"
   ]
  },
  {
   "cell_type": "code",
   "execution_count": 19,
   "metadata": {},
   "outputs": [
    {
     "name": "stdout",
     "output_type": "stream",
     "text": [
      "(1944, 14)\n",
      "(2056, 14)\n"
     ]
    }
   ],
   "source": [
    "df['target'] = df['退会フラグ']\n",
    "train = df[df['日付'] < '2018-07-01']\n",
    "test = df[df['日付'] >= '2018-07-01']\n",
    "print(train.shape)\n",
    "print(test.shape)"
   ]
  },
  {
   "cell_type": "code",
   "execution_count": 8,
   "metadata": {},
   "outputs": [
    {
     "name": "stdout",
     "output_type": "stream",
     "text": [
      "100\n",
      "100\n"
     ]
    }
   ],
   "source": [
    "print(train['顧客ID'].nunique())\n",
    "print(test['顧客ID'].nunique())"
   ]
  },
  {
   "cell_type": "code",
   "execution_count": 9,
   "metadata": {},
   "outputs": [
    {
     "name": "stdout",
     "output_type": "stream",
     "text": [
      "987\n",
      "1013\n"
     ]
    }
   ],
   "source": [
    "print(train.groupby('').sum())\n",
    "print(test['退会フラグ'].sum())"
   ]
  },
  {
   "cell_type": "code",
   "execution_count": 11,
   "metadata": {},
   "outputs": [
    {
     "data": {
      "text/plain": [
       "29"
      ]
     },
     "execution_count": 11,
     "metadata": {},
     "output_type": "execute_result"
    }
   ],
   "source": [
    "train.groupby('顧客ID')['退会フラグ'].max().sum()"
   ]
  },
  {
   "cell_type": "code",
   "execution_count": 12,
   "metadata": {},
   "outputs": [
    {
     "data": {
      "text/plain": [
       "29"
      ]
     },
     "execution_count": 12,
     "metadata": {},
     "output_type": "execute_result"
    }
   ],
   "source": [
    "test.groupby('顧客ID')['退会フラグ'].max().sum()"
   ]
  },
  {
   "cell_type": "code",
   "execution_count": 20,
   "metadata": {},
   "outputs": [],
   "source": [
    "train.to_csv('train.csv',index=False)\n",
    "test.to_csv('test.csv',index=False)"
   ]
  },
  {
   "cell_type": "code",
   "execution_count": 18,
   "metadata": {},
   "outputs": [
    {
     "name": "stdout",
     "output_type": "stream",
     "text": [
      "/Users/takizawatakafumi/saas/cognimaker/tests/test_moel/input/input\n"
     ]
    }
   ],
   "source": [
    "import os\n",
    "path = os.path.join(os.path.abspath('./'), 'input')\n",
    "print(path)"
   ]
  },
  {
   "cell_type": "code",
   "execution_count": null,
   "metadata": {},
   "outputs": [],
   "source": []
  }
 ],
 "metadata": {
  "kernelspec": {
   "display_name": "Python 3",
   "language": "python",
   "name": "python3"
  },
  "language_info": {
   "codemirror_mode": {
    "name": "ipython",
    "version": 3
   },
   "file_extension": ".py",
   "mimetype": "text/x-python",
   "name": "python",
   "nbconvert_exporter": "python",
   "pygments_lexer": "ipython3",
   "version": "3.7.6"
  }
 },
 "nbformat": 4,
 "nbformat_minor": 2
}
